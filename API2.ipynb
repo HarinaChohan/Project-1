{
 "cells": [
  {
   "cell_type": "markdown",
   "metadata": {},
   "source": [
    "!<div style=\"text-align: center;\">\n",
    "  ![Alternative text for the image](USIU_Africa_Logo.png)\n",
    "</div>  "
   ]
  },
  {
   "cell_type": "markdown",
   "metadata": {},
   "source": []
  },
  {
   "cell_type": "markdown",
   "metadata": {},
   "source": []
  },
  {
   "cell_type": "markdown",
   "metadata": {},
   "source": [
    "<p style=\"text-align: center;\"><b>UNITED&nbsp; STATES &nbsp;INTERNATIONAL &nbsp;UNIVERSITY</b></p> \n",
    "<p style=\"text-align: center;\"><b>AFRICA</b></p> "
   ]
  },
  {
   "cell_type": "markdown",
   "metadata": {},
   "source": []
  },
  {
   "cell_type": "markdown",
   "metadata": {},
   "source": []
  },
  {
   "cell_type": "markdown",
   "metadata": {},
   "source": []
  },
  {
   "cell_type": "markdown",
   "metadata": {},
   "source": []
  },
  {
   "cell_type": "markdown",
   "metadata": {},
   "source": []
  },
  {
   "cell_type": "markdown",
   "metadata": {},
   "source": [
    "<p style=\"text-align: center;\">School &nbsp;  of  &nbsp; Science&nbsp;   and  &nbsp; Technology</P> "
   ]
  },
  {
   "cell_type": "markdown",
   "metadata": {},
   "source": []
  },
  {
   "cell_type": "markdown",
   "metadata": {},
   "source": [
    "<p style=\"text-align: center;\">Course &nbsp;Name: &nbsp;Programming&nbsp; for &nbsp;Datascience (DSA1080)</P> "
   ]
  },
  {
   "cell_type": "markdown",
   "metadata": {},
   "source": []
  },
  {
   "cell_type": "markdown",
   "metadata": {},
   "source": [
    "<p style=\"text-align: center;\">Student&nbsp; Name: &nbsp; Hermela &nbsp;Seltanu&nbsp; Gizaw&nbsp;&nbsp;&nbsp;&nbsp;   ID: 670446</P> "
   ]
  },
  {
   "cell_type": "markdown",
   "metadata": {},
   "source": []
  },
  {
   "cell_type": "markdown",
   "metadata": {},
   "source": [
    "<p style=\"text-align: center;\">Instructor &nbsp;Name:&nbsp; Prof. &nbsp;Austin &nbsp;Odera</P> "
   ]
  },
  {
   "cell_type": "markdown",
   "metadata": {},
   "source": []
  },
  {
   "cell_type": "markdown",
   "metadata": {},
   "source": [
    "<p style=\"text-align: center;\">Task &nbsp;Type: &nbsp;Individual&nbsp; Assignment &nbsp;6</P> "
   ]
  },
  {
   "cell_type": "markdown",
   "metadata": {},
   "source": []
  },
  {
   "cell_type": "markdown",
   "metadata": {},
   "source": []
  },
  {
   "cell_type": "markdown",
   "metadata": {},
   "source": []
  },
  {
   "cell_type": "markdown",
   "metadata": {},
   "source": []
  },
  {
   "cell_type": "markdown",
   "metadata": {},
   "source": []
  },
  {
   "cell_type": "markdown",
   "metadata": {},
   "source": []
  },
  {
   "cell_type": "markdown",
   "metadata": {},
   "source": []
  },
  {
   "cell_type": "markdown",
   "metadata": {},
   "source": []
  },
  {
   "cell_type": "markdown",
   "metadata": {},
   "source": []
  },
  {
   "cell_type": "markdown",
   "metadata": {},
   "source": []
  },
  {
   "cell_type": "markdown",
   "metadata": {},
   "source": [
    "##### Question: Write a Python program that reads a CSV file containing student names and their scores in three subjects: Math, Science, and English. The program should calculate the average score for each student and write the results to a new CSV file. The new CSV file should contain the student names and their average scores.\n",
    "##### * The input CSV file is students_scores.csv\n",
    "##### * The output CSV file is students_averages.csv"
   ]
  },
  {
   "cell_type": "code",
   "execution_count": 4,
   "metadata": {},
   "outputs": [],
   "source": [
    "import csv # Import the csv module to handle CSV file operations\n",
    "def calculate_average_score(input_csv_file, output_csv_file):\n",
    "    \"\"\"Calculate average scores for students from an input CSV file and \n",
    "    write the results to an output CSV file.\"\"\"\n",
    "    with open(input_csv_file) as input_file: # Open the input CSV file\n",
    "        # Create a dictreader to read the input csv file\n",
    "        read_input = csv.DictReader(input_file) \n",
    "        #Define field names for output csv file\n",
    "        fieldnames = ['Full_Name', 'Average_score'] \n",
    "        \n",
    "        # Open the input CSV file in write mode\n",
    "        with open(output_csv_file, mode='w', newline='') as output_file:\n",
    "            #Dictwriter to write to the output csv file\n",
    "            write_output = csv.DictWriter(output_file, fieldnames=fieldnames)\n",
    "            write_output.writeheader() # Put a header row in the output csv file\n",
    "            \n",
    "            # Iterating over each data(row) in the input csv file\n",
    "            for row in read_input:\n",
    "                # Combine first and last names to create full name\n",
    "                first_name = row['student_first_name']\n",
    "                last_name = row['student_last_name']\n",
    "                full_name = f\"{first_name} {last_name}\"\n",
    "\n",
    "                # Convert scores from strings to floats for calculation\n",
    "                math_score = float(row['math_score'])\n",
    "                science_score = float(row['science_score'])\n",
    "                english_score = float(row['english_score'])\n",
    "\n",
    "                # Calculate average score\n",
    "                average_score = (math_score + science_score + english_score) / 3\n",
    "                # Write full name and average score(rounded) to output csv file\n",
    "                write_output.writerow({'Full_Name': full_name, 'Average_score': \n",
    "                                 round(average_score, 2)})\n",
    "\n",
    "# Putting file paths for the input and output csv files\n",
    "input_csv_file = 'C:/Users/admin/Documents/Hermela/Python/students_scores.csv'\n",
    "output_csv_file = 'C:/Users/admin/Documents/Hermela/Python/students_averages.csv'\n",
    "\n",
    "# Calculating average score and write it to the output csv file\n",
    "calculate_average_score(input_csv_file, output_csv_file)"
   ]
  },
  {
   "cell_type": "markdown",
   "metadata": {},
   "source": []
  },
  {
   "cell_type": "markdown",
   "metadata": {},
   "source": []
  },
  {
   "cell_type": "markdown",
   "metadata": {},
   "source": []
  },
  {
   "cell_type": "markdown",
   "metadata": {},
   "source": [
    "\n",
    "\n"
   ]
  },
  {
   "cell_type": "markdown",
   "metadata": {},
   "source": []
  },
  {
   "cell_type": "markdown",
   "metadata": {},
   "source": [
    "##### The input csv file with student first, last name and score of each subject"
   ]
  },
  {
   "cell_type": "markdown",
   "metadata": {},
   "source": [
    "!<div style=\"text-align: center;\">\n",
    "  ![Alternative text for the image](Screenshot.png)\n",
    "</div>  "
   ]
  },
  {
   "cell_type": "markdown",
   "metadata": {},
   "source": [
    "##### The output csv file with student full name and average score"
   ]
  },
  {
   "cell_type": "markdown",
   "metadata": {},
   "source": [
    "!<div style=\"text-align: center;\">\n",
    "  ![Alternative text for the image](Screenshot1.png)\n",
    "</div>  "
   ]
  }
 ],
 "metadata": {
  "kernelspec": {
   "display_name": "Python 3",
   "language": "python",
   "name": "python3"
  },
  "language_info": {
   "codemirror_mode": {
    "name": "ipython",
    "version": 3
   },
   "file_extension": ".py",
   "mimetype": "text/x-python",
   "name": "python",
   "nbconvert_exporter": "python",
   "pygments_lexer": "ipython3",
   "version": "3.12.3"
  }
 },
 "nbformat": 4,
 "nbformat_minor": 2
}
